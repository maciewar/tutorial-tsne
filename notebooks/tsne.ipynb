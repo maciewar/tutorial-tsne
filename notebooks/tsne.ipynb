{
 "cells": [
  {
   "cell_type": "code",
   "execution_count": null,
   "metadata": {
    "collapsed": false
   },
   "outputs": [],
   "source": [
    "%matplotlib inline\n",
    "%pylab inline\n",
    "pylab.rcParams['figure.figsize'] = (10, 8)"
   ]
  },
  {
   "cell_type": "markdown",
   "metadata": {},
   "source": [
    "# Część 1 - Porównanie embeddingów"
   ]
  },
  {
   "cell_type": "code",
   "execution_count": null,
   "metadata": {
    "collapsed": true
   },
   "outputs": [],
   "source": [
    "import numpy as np\n",
    "import matplotlib.pyplot as plt\n",
    "from matplotlib import offsetbox\n",
    "from sklearn import (manifold, datasets, decomposition, ensemble,\n",
    "                     discriminant_analysis, random_projection)"
   ]
  },
  {
   "cell_type": "code",
   "execution_count": null,
   "metadata": {
    "collapsed": true
   },
   "outputs": [],
   "source": [
    "def plot_embedding(X, title=None):\n",
    "    x_min, x_max = np.min(X, 0), np.max(X, 0)\n",
    "    X = (X - x_min) / (x_max - x_min)\n",
    "\n",
    "    plt.figure()\n",
    "    ax = plt.subplot(111)\n",
    "    for i in range(X.shape[0]):\n",
    "        plt.text(X[i, 0], X[i, 1], str(digits.target[i]),\n",
    "                 color=plt.cm.Set1(y[i] / 10.),\n",
    "                 fontdict={'weight': 'bold', 'size': 9})\n",
    "\n",
    "    if hasattr(offsetbox, 'AnnotationBbox'):\n",
    "        # only print thumbnails with matplotlib > 1.0\n",
    "        shown_images = np.array([[1., 1.]])  # just something big\n",
    "        for i in range(digits.data.shape[0]):\n",
    "            dist = np.sum((X[i] - shown_images) ** 2, 1)\n",
    "            if np.min(dist) < 4e-3:\n",
    "                # don't show points that are too close\n",
    "                continue\n",
    "            shown_images = np.r_[shown_images, [X[i]]]\n",
    "            imagebox = offsetbox.AnnotationBbox(\n",
    "                offsetbox.OffsetImage(digits.images[i], cmap=plt.cm.gray_r),\n",
    "                X[i])\n",
    "            ax.add_artist(imagebox)\n",
    "    plt.xticks([]), plt.yticks([])\n",
    "    if title is not None:\n",
    "        plt.title(title)"
   ]
  },
  {
   "cell_type": "code",
   "execution_count": null,
   "metadata": {
    "collapsed": true
   },
   "outputs": [],
   "source": [
    "def plot_colorless(X, title=None):\n",
    "    x_min, x_max = np.min(X, 0), np.max(X, 0)\n",
    "    X = (X - x_min) / (x_max - x_min)\n",
    "\n",
    "    plt.figure()\n",
    "    ax = plt.subplot(111)\n",
    "    for i in range(X.shape[0]):\n",
    "        plt.scatter(X[i, 0], X[i, 1])\n",
    "\n",
    "    plt.xticks([]), plt.yticks([])\n",
    "    if title is not None:\n",
    "        plt.title(title)"
   ]
  },
  {
   "cell_type": "code",
   "execution_count": null,
   "metadata": {
    "collapsed": true
   },
   "outputs": [],
   "source": [
    "digits = datasets.load_digits(n_class=6)\n",
    "X = digits.data\n",
    "y = digits.target\n",
    "n_samples, n_features = X.shape\n",
    "n_neighbors = 30"
   ]
  },
  {
   "cell_type": "code",
   "execution_count": null,
   "metadata": {
    "collapsed": false
   },
   "outputs": [],
   "source": [
    "n_img_per_row = 20\n",
    "img = np.zeros((10 * n_img_per_row, 10 * n_img_per_row))\n",
    "for i in range(n_img_per_row):\n",
    "    ix = 10 * i + 1\n",
    "    for j in range(n_img_per_row):\n",
    "        iy = 10 * j + 1\n",
    "        img[ix:ix + 8, iy:iy + 8] = X[i * n_img_per_row + j].reshape((8, 8))\n",
    "\n",
    "plt.imshow(img, cmap=plt.cm.binary)\n",
    "plt.xticks([])\n",
    "plt.yticks([])\n",
    "plt.title('A selection from the 64-dimensional digits dataset')"
   ]
  },
  {
   "cell_type": "code",
   "execution_count": null,
   "metadata": {
    "collapsed": false
   },
   "outputs": [],
   "source": [
    "rp = random_projection.SparseRandomProjection(n_components=2, random_state=42)\n",
    "X_projected = rp.fit_transform(X)\n",
    "plot_colorless(X_projected, \"Random Projection\")\n",
    "plot_embedding(X_projected, \"Random Projection\")"
   ]
  },
  {
   "cell_type": "code",
   "execution_count": null,
   "metadata": {
    "collapsed": false
   },
   "outputs": [],
   "source": [
    "X_pca = decomposition.TruncatedSVD(n_components=2).fit_transform(X)\n",
    "plot_embedding(X_pca, \"Principal Components projection\")"
   ]
  },
  {
   "cell_type": "code",
   "execution_count": null,
   "metadata": {
    "collapsed": false
   },
   "outputs": [],
   "source": [
    "X2 = X.copy()\n",
    "X2.flat[::X.shape[1] + 1] += 0.01  # Make X invertible\n",
    "X_lda = discriminant_analysis.LinearDiscriminantAnalysis(n_components=2).fit_transform(X2, y)\n",
    "plot_embedding(X_lda, \"Linear Discriminant projection\")"
   ]
  },
  {
   "cell_type": "code",
   "execution_count": null,
   "metadata": {
    "collapsed": false
   },
   "outputs": [],
   "source": [
    "X_iso = manifold.Isomap(n_neighbors, n_components=2).fit_transform(X)\n",
    "plot_embedding(X_iso, \"Isomap projection\")"
   ]
  },
  {
   "cell_type": "code",
   "execution_count": null,
   "metadata": {
    "collapsed": false
   },
   "outputs": [],
   "source": [
    "clf = manifold.LocallyLinearEmbedding(n_neighbors, n_components=2, method='standard')\n",
    "X_lle = clf.fit_transform(X)\n",
    "plot_embedding(X_lle, \"Locally Linear Embedding\")"
   ]
  },
  {
   "cell_type": "code",
   "execution_count": null,
   "metadata": {
    "collapsed": false
   },
   "outputs": [],
   "source": [
    "clf = manifold.LocallyLinearEmbedding(n_neighbors, n_components=2, method='modified')\n",
    "X_mlle = clf.fit_transform(X)\n",
    "plot_embedding(X_mlle, \"Modified Locally Linear Embedding\")"
   ]
  },
  {
   "cell_type": "code",
   "execution_count": null,
   "metadata": {
    "collapsed": false
   },
   "outputs": [],
   "source": [
    "clf = manifold.LocallyLinearEmbedding(n_neighbors, n_components=2, method='hessian')\n",
    "X_hlle = clf.fit_transform(X)\n",
    "plot_embedding(X_hlle, \"Hessian Locally Linear Embedding\")"
   ]
  },
  {
   "cell_type": "code",
   "execution_count": null,
   "metadata": {
    "collapsed": false
   },
   "outputs": [],
   "source": [
    "clf = manifold.LocallyLinearEmbedding(n_neighbors, n_components=2, method='ltsa')\n",
    "X_ltsa = clf.fit_transform(X)\n",
    "plot_embedding(X_ltsa, \"Local Tangent Space Alignment\")"
   ]
  },
  {
   "cell_type": "code",
   "execution_count": null,
   "metadata": {
    "collapsed": false
   },
   "outputs": [],
   "source": [
    "clf = manifold.MDS(n_components=2, n_init=1, max_iter=100)\n",
    "X_mds = clf.fit_transform(X)\n",
    "plot_embedding(X_mds, \"MDS embedding\")"
   ]
  },
  {
   "cell_type": "code",
   "execution_count": null,
   "metadata": {
    "collapsed": false
   },
   "outputs": [],
   "source": [
    "hasher = ensemble.RandomTreesEmbedding(n_estimators=200, random_state=0, max_depth=5)\n",
    "X_transformed = hasher.fit_transform(X)\n",
    "pca = decomposition.TruncatedSVD(n_components=2)\n",
    "X_reduced = pca.fit_transform(X_transformed)\n",
    "plot_embedding(X_reduced, \"Random forest embedding\")"
   ]
  },
  {
   "cell_type": "code",
   "execution_count": null,
   "metadata": {
    "collapsed": false
   },
   "outputs": [],
   "source": [
    "embedder = manifold.SpectralEmbedding(n_components=2, random_state=0, eigen_solver=\"arpack\")\n",
    "X_se = embedder.fit_transform(X)\n",
    "plot_embedding(X_se, \"Spectral embedding\")"
   ]
  },
  {
   "cell_type": "markdown",
   "metadata": {},
   "source": [
    "# Task 1:\n",
    "\n",
    "# Uzyj biblioteki sklearn.manifold, aby wygenerowac embedding TSNE:"
   ]
  },
  {
   "cell_type": "code",
   "execution_count": null,
   "metadata": {
    "collapsed": false
   },
   "outputs": [],
   "source": [
    "tsne = # TODO\n",
    "X_tsne = tsne.fit_transform(X)\n",
    "plot_embedding(X_tsne, \"t-SNE embedding\")\n",
    "plot_colorless(X_tsne, \"Random Projection\")"
   ]
  },
  {
   "cell_type": "markdown",
   "metadata": {},
   "source": [
    "# Część 2 - wizualizacja działania t-SNE"
   ]
  },
  {
   "cell_type": "code",
   "execution_count": null,
   "metadata": {
    "collapsed": false
   },
   "outputs": [],
   "source": [
    "import numpy as np\n",
    "from numpy import linalg\n",
    "from numpy.linalg import norm\n",
    "from scipy.spatial.distance import squareform, pdist\n",
    "import sklearn\n",
    "from sklearn.manifold import TSNE\n",
    "from sklearn.datasets import load_digits\n",
    "from sklearn.preprocessing import scale\n",
    "# We'll hack a bit with the t-SNE code in sklearn 0.15.2.\n",
    "from sklearn.metrics.pairwise import pairwise_distances\n",
    "from sklearn.manifold.t_sne import (_joint_probabilities,\n",
    "                                    _kl_divergence)\n",
    "from sklearn.utils.extmath import _ravel\n",
    "import matplotlib.pyplot as plt\n",
    "import matplotlib.patheffects as PathEffects\n",
    "import matplotlib\n",
    "import seaborn as sns\n",
    "sns.set_style('darkgrid')\n",
    "sns.set_palette('muted')\n",
    "sns.set_context(\"notebook\", font_scale=1.5,\n",
    "                rc={\"lines.linewidth\": 2.5})\n",
    "from moviepy.video.io.bindings import mplfig_to_npimage\n",
    "import moviepy.editor as mpy\n",
    "RS = 42"
   ]
  },
  {
   "cell_type": "code",
   "execution_count": null,
   "metadata": {
    "collapsed": false
   },
   "outputs": [],
   "source": [
    "digits = load_digits()\n",
    "digits.data.shape"
   ]
  },
  {
   "cell_type": "code",
   "execution_count": null,
   "metadata": {
    "collapsed": false
   },
   "outputs": [],
   "source": [
    "print(digits['DESCR'])"
   ]
  },
  {
   "cell_type": "code",
   "execution_count": null,
   "metadata": {
    "collapsed": false
   },
   "outputs": [],
   "source": [
    "nrows, ncols = 2, 5\n",
    "plt.figure(figsize=(6,3))\n",
    "plt.gray()\n",
    "for i in range(ncols * nrows):\n",
    "    ax = plt.subplot(nrows, ncols, i + 1)\n",
    "    ax.matshow(digits.images[i,...])\n",
    "    plt.xticks([]); plt.yticks([])\n",
    "    plt.title(digits.target[i])\n",
    "plt.show()"
   ]
  },
  {
   "cell_type": "code",
   "execution_count": null,
   "metadata": {
    "collapsed": true
   },
   "outputs": [],
   "source": [
    "X = np.vstack([digits.data[digits.target==i] for i in range(10)])\n",
    "y = np.hstack([digits.target[digits.target==i] for i in range(10)])\n",
    "digits_proj = TSNE(random_state=RS).fit_transform(X) "
   ]
  },
  {
   "cell_type": "code",
   "execution_count": null,
   "metadata": {
    "collapsed": true
   },
   "outputs": [],
   "source": [
    "def scatter(x, colors):\n",
    "    # We choose a color palette with seaborn.\n",
    "    palette = np.array(sns.color_palette(\"hls\", 10))\n",
    "\n",
    "    # We create a scatter plot.\n",
    "    f = plt.figure(figsize=(8, 8))\n",
    "    ax = plt.subplot(aspect='equal')\n",
    "    sc = ax.scatter(x[:,0], x[:,1], lw=0, s=40,\n",
    "                    c=palette[colors.astype(np.int)])\n",
    "    plt.xlim(-25, 25)\n",
    "    plt.ylim(-25, 25)\n",
    "    ax.axis('off')\n",
    "    ax.axis('tight')\n",
    "\n",
    "    # We add the labels for each digit.\n",
    "    txts = []\n",
    "    for i in range(10):\n",
    "        # Position of each label.\n",
    "        xtext, ytext = np.median(x[colors == i, :], axis=0)\n",
    "        txt = ax.text(xtext, ytext, str(i), fontsize=24)\n",
    "        txt.set_path_effects([\n",
    "            PathEffects.Stroke(linewidth=5, foreground=\"w\"),\n",
    "            PathEffects.Normal()])\n",
    "        txts.append(txt)\n",
    "\n",
    "    return f, ax, sc, txts"
   ]
  },
  {
   "cell_type": "code",
   "execution_count": null,
   "metadata": {
    "collapsed": false
   },
   "outputs": [],
   "source": [
    "scatter(digits_proj, y)\n",
    "plt.show()"
   ]
  },
  {
   "cell_type": "markdown",
   "metadata": {},
   "source": [
    "# Task 2:\n",
    "\n",
    "# Zaimplemetuj metodę wykorzystując wzór $p_{i|j} = \\frac{\\exp{(-||x_i-x_j|| / 2\\sigma_i^2)}}{\\sum_{k\\neq j}\\exp{(-||x_i-x_k|| / 2\\sigma_i^2)}}$"
   ]
  },
  {
   "cell_type": "code",
   "execution_count": null,
   "metadata": {
    "collapsed": true
   },
   "outputs": [],
   "source": [
    "def _joint_probabilities_constant_sigma(D, sigma): \n",
    "    #TODO"
   ]
  },
  {
   "cell_type": "code",
   "execution_count": null,
   "metadata": {
    "collapsed": true
   },
   "outputs": [],
   "source": [
    "# Pairwise distances between all data points.\n",
    "D = pairwise_distances(X, squared=True)\n",
    "# Similarity with constant sigma.\n",
    "P_constant = _joint_probabilities_constant_sigma(D, .002)\n",
    "# Similarity with variable sigma.\n",
    "P_binary = _joint_probabilities(D, 30., False)\n",
    "# The output of this function needs to be reshaped to a square matrix.\n",
    "P_binary_s = squareform(P_binary)"
   ]
  },
  {
   "cell_type": "code",
   "execution_count": null,
   "metadata": {
    "collapsed": false
   },
   "outputs": [],
   "source": [
    "plt.figure(figsize=(12, 4))\n",
    "pal = sns.light_palette(\"blue\", as_cmap=True)\n",
    "\n",
    "plt.subplot(131)\n",
    "plt.imshow(D[::10, ::10], interpolation='none', cmap=pal)\n",
    "plt.axis('off')\n",
    "plt.title(\"Distance matrix\", fontdict={'fontsize': 16})\n",
    "\n",
    "plt.subplot(132)\n",
    "plt.imshow(P_constant[::10, ::10], interpolation='none', cmap=pal)\n",
    "plt.axis('off')\n",
    "plt.title(\"$p_{j|i}$ (constant $\\sigma$)\", fontdict={'fontsize': 16})\n",
    "\n",
    "plt.subplot(133)\n",
    "plt.imshow(P_binary_s[::10, ::10], interpolation='none', cmap=pal)\n",
    "plt.axis('off')\n",
    "plt.title(\"$p_{j|i}$ (variable $\\sigma$)\", fontdict={'fontsize': 16})\n",
    "plt.show()"
   ]
  },
  {
   "cell_type": "code",
   "execution_count": null,
   "metadata": {
    "collapsed": true
   },
   "outputs": [],
   "source": [
    "# sklearn.manifold.t_sne._gradient_descent?"
   ]
  },
  {
   "cell_type": "code",
   "execution_count": null,
   "metadata": {
    "collapsed": true
   },
   "outputs": [],
   "source": [
    "# This list will contain the positions of the map points at every iteration.\n",
    "positions = []\n",
    "\n",
    "def _gradient_descent(objective, p0, it, n_iter, n_iter_without_progress=30,\n",
    "                      momentum=0.5, learning_rate=1000.0, min_gain=0.01,\n",
    "                      min_grad_norm=1e-7, min_error_diff=1e-7, verbose=0,\n",
    "                      objective_error=None, n_iter_check=1,\n",
    "                      args=None, kwargs=None):\n",
    "    min_grad_norm = 1e-7\n",
    "    print it, n_iter\n",
    "    # The documentation of this function can be found in scikit-learn's code.\n",
    "    p = p0.copy().ravel()\n",
    "    update = np.zeros_like(p)\n",
    "    gains = np.ones_like(p)\n",
    "    error = np.finfo(np.float).max\n",
    "    best_error = np.finfo(np.float).max\n",
    "    best_iter = 0\n",
    "\n",
    "    for i in range(it, n_iter):\n",
    "        # We save the current position.\n",
    "        positions.append(p.copy())\n",
    "        \n",
    "        new_error, grad = objective(p, *args)\n",
    "        error_diff = np.abs(new_error - error)\n",
    "        error = new_error\n",
    "        grad_norm = linalg.norm(grad)\n",
    "\n",
    "        if error < best_error:\n",
    "            best_error = error\n",
    "            best_iter = i\n",
    "        elif i - best_iter > n_iter_without_progress:\n",
    "            break\n",
    "            \n",
    "        if min_grad_norm >= grad_norm:\n",
    "            break\n",
    "            \n",
    "        if min_error_diff >= error_diff:\n",
    "            break\n",
    "\n",
    "        inc = update * grad >= 0.0\n",
    "        dec = np.invert(inc)\n",
    "        gains[inc] += 0.05\n",
    "        gains[dec] *= 0.95\n",
    "        np.clip(gains, min_gain, np.inf)\n",
    "        grad *= gains\n",
    "        update = momentum * update - learning_rate * grad\n",
    "        p += update\n",
    "\n",
    "    return p, error, i\n",
    "\n",
    "sklearn.manifold.t_sne._gradient_descent = _gradient_descent"
   ]
  },
  {
   "cell_type": "code",
   "execution_count": null,
   "metadata": {
    "collapsed": false
   },
   "outputs": [],
   "source": [
    "X_proj = TSNE(random_state=RS).fit_transform(X)\n",
    "X_iter = np.dstack(position.reshape(-1, 2) for position in positions)"
   ]
  },
  {
   "cell_type": "code",
   "execution_count": null,
   "metadata": {
    "collapsed": false
   },
   "outputs": [],
   "source": [
    "speed = 10.\n",
    "f, ax, sc, txts = scatter(X_iter[..., -1], y)\n",
    "\n",
    "def make_frame_mpl(t):\n",
    "    i = int(t*speed)\n",
    "    x = X_iter[..., i]\n",
    "    sc.set_offsets(x)\n",
    "    for j, txt in zip(range(10), txts):\n",
    "        xtext, ytext = np.median(x[y == j, :], axis=0)\n",
    "        txt.set_x(xtext)\n",
    "        txt.set_y(ytext)\n",
    "    return mplfig_to_npimage(f)\n",
    "\n",
    "animation = mpy.VideoClip(make_frame_mpl, duration=X_iter.shape[2]/speed)\n",
    "animation.write_videofile(\"tsne.webm\", fps=20)"
   ]
  },
  {
   "cell_type": "code",
   "execution_count": null,
   "metadata": {
    "collapsed": false
   },
   "outputs": [],
   "source": [
    "mpy.ipython_display(\"tsne.webm\", fps=20, autoplay=True)"
   ]
  },
  {
   "cell_type": "code",
   "execution_count": null,
   "metadata": {
    "collapsed": false
   },
   "outputs": [],
   "source": [
    "speed = 80.\n",
    "\n",
    "n = 1. / (pdist(X_iter[..., -1], \"sqeuclidean\") + 1)\n",
    "Q = n / (2.0 * np.sum(n))\n",
    "Q = squareform(Q)\n",
    "\n",
    "f = plt.figure(figsize=(6, 6))\n",
    "ax = plt.subplot(aspect='equal')\n",
    "im = ax.imshow(Q, interpolation='none', cmap=pal)\n",
    "plt.axis('tight')\n",
    "plt.axis('off')\n",
    "\n",
    "def make_frame_mpl(t):\n",
    "    i = int(t*speed)\n",
    "    n = 1. / (pdist(X_iter[..., i], \"sqeuclidean\") + 1)\n",
    "    Q = n / (2.0 * np.sum(n))\n",
    "    Q = squareform(Q)\n",
    "    im.set_data(Q)\n",
    "    return mplfig_to_npimage(f)\n",
    "\n",
    "animation = mpy.VideoClip(make_frame_mpl, duration=X_iter.shape[2]/speed)\n",
    "animation.write_videofile(\"distances.webm\", fps=20)"
   ]
  },
  {
   "cell_type": "code",
   "execution_count": null,
   "metadata": {
    "collapsed": false
   },
   "outputs": [],
   "source": [
    "mpy.ipython_display(\"distances.webm\", fps=20, autoplay=True)"
   ]
  },
  {
   "cell_type": "code",
   "execution_count": null,
   "metadata": {
    "collapsed": false
   },
   "outputs": [],
   "source": [
    "npoints = 1000\n",
    "plt.figure(figsize=(15, 4))\n",
    "for i, D in enumerate((2, 5, 10)):\n",
    "    # Normally distributed points.\n",
    "    u = np.random.randn(npoints, D)\n",
    "    # Now on the sphere.\n",
    "    u /= norm(u, axis=1)[:, None]\n",
    "    # Uniform radius.\n",
    "    r = np.random.rand(npoints, 1)\n",
    "    # Uniformly within the ball.\n",
    "    points = u * r**(1./D)\n",
    "    # Plot.\n",
    "    ax = plt.subplot(1, 3, i+1)\n",
    "    ax.set_xlabel('Ball radius')\n",
    "    if i == 0:\n",
    "        ax.set_ylabel('Distance from origin')\n",
    "    ax.hist(norm(points, axis=1),\n",
    "            bins=np.linspace(0., 1., 50))\n",
    "    ax.set_title('D=%d' % D, loc='left')\n",
    "plt.show()"
   ]
  },
  {
   "cell_type": "code",
   "execution_count": null,
   "metadata": {
    "collapsed": false
   },
   "outputs": [],
   "source": [
    "z = np.linspace(0., 5., 1000)\n",
    "gauss = np.exp(-z**2)\n",
    "cauchy = 1/(1+z**2)\n",
    "plt.plot(z, gauss, label='Gaussian distribution')\n",
    "plt.plot(z, cauchy, label='Cauchy distribution')\n",
    "plt.legend()\n",
    "plt.show()"
   ]
  }
 ],
 "metadata": {
  "celltoolbar": "Raw Cell Format",
  "kernelspec": {
   "display_name": "Python 2",
   "language": "python",
   "name": "python2"
  },
  "language_info": {
   "codemirror_mode": {
    "name": "ipython",
    "version": 2
   },
   "file_extension": ".py",
   "mimetype": "text/x-python",
   "name": "python",
   "nbconvert_exporter": "python",
   "pygments_lexer": "ipython2",
   "version": "2.7.12"
  }
 },
 "nbformat": 4,
 "nbformat_minor": 0
}
